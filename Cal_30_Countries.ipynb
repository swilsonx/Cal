{
 "cells": [
  {
   "cell_type": "code",
   "execution_count": null,
   "metadata": {},
   "outputs": [],
   "source": [
    "#Importing basic packages\n",
    "import pandas as pd\n",
    "import numpy as np\n",
    "import matplotlib.pyplot as plt\n",
    "import seaborn as sns\n",
    "import sklearn"
   ]
  },
  {
   "cell_type": "code",
   "execution_count": null,
   "metadata": {},
   "outputs": [],
   "source": [
    "#Importing the Dataset\n",
    "#Cals list of top 30 countries with X variables\n",
    "thirty = pd.read_csv('C:\\\\Users\\\\D648007\\\\CalTop30Countries.csv', encoding= 'unicode_escape')\n",
    "dataset = thirty"
   ]
  },
  {
   "cell_type": "code",
   "execution_count": null,
   "metadata": {
    "scrolled": false
   },
   "outputs": [],
   "source": [
    "#Look at dataset's dimensions: rows and columns\n",
    "print(dataset.shape)"
   ]
  },
  {
   "cell_type": "code",
   "execution_count": null,
   "metadata": {},
   "outputs": [],
   "source": [
    "dataset.dtypes"
   ]
  },
  {
   "cell_type": "code",
   "execution_count": null,
   "metadata": {},
   "outputs": [],
   "source": [
    "#Convert Edu from object to float dtype\n",
    "dataset[\"Education\"] = pd.to_numeric(dataset.Education, errors='coerce')\n",
    "#Check that conversion has worked\n",
    "dataset.dtypes"
   ]
  },
  {
   "cell_type": "code",
   "execution_count": null,
   "metadata": {},
   "outputs": [],
   "source": [
    "#View first 15 rows to see what the data is like\n",
    "#Top 30 RICH\n",
    "#Spend 2020 - \n",
    "#Tax 2020 -\n",
    "#Gini WHR -\n",
    "#Mobility - \n",
    "#GDP - \n",
    "#Pollution - \n",
    "#Democracy - \n",
    "#Giving - \n",
    "#Obesity - \n",
    "#Min wage - \n",
    "#Gini - \n",
    "#Education - \n",
    "#Work - \n",
    "#Tourism - \n",
    "#Ladder (2020) - Happiness score OUTCOME VARIABLE\n",
    "dataset.head(15)\n"
   ]
  },
  {
   "cell_type": "code",
   "execution_count": null,
   "metadata": {},
   "outputs": [],
   "source": [
    "#Confirm name of column with the country names in it as we want to remove it\n",
    "dataset.columns"
   ]
  },
  {
   "cell_type": "code",
   "execution_count": null,
   "metadata": {},
   "outputs": [],
   "source": [
    "#Drop the column with the country names\n",
    "dataset = dataset.drop(['TOP 30 RICH'], axis=1)\n",
    "#Check that the column has been dropped \n",
    "dataset.head(5)"
   ]
  },
  {
   "cell_type": "code",
   "execution_count": null,
   "metadata": {},
   "outputs": [],
   "source": [
    "#Change column names to shorten them so are easier to read in tables\n",
    "dataset.columns = ['Spen', 'Tax', 'GinW', 'Mob', 'GDP', 'Pol', 'Dem', 'Giv', 'Obe', 'MinW', 'Gin', 'Edu', 'Work', 'Tour', 'Hap' ]"
   ]
  },
  {
   "cell_type": "code",
   "execution_count": null,
   "metadata": {},
   "outputs": [],
   "source": [
    "#Identify which columns have NaN (Not a Number - i.e. missing values)\n",
    "nan_values = dataset.isna()\n",
    "nan_columns = nan_values.any()\n",
    "\n",
    "columns_with_nan = dataset.columns[nan_columns].tolist()\n",
    "print(columns_with_nan)\n",
    "\n",
    "#Need to remove the NaN"
   ]
  },
  {
   "cell_type": "code",
   "execution_count": null,
   "metadata": {},
   "outputs": [],
   "source": [
    "#Chart the features to see what % of each feature is missing, using the NaN\n",
    "import missingno as msno\n",
    "msno.bar(dataset)"
   ]
  },
  {
   "cell_type": "code",
   "execution_count": null,
   "metadata": {},
   "outputs": [],
   "source": [
    "#Replace the NaNs with the median for that feature\n",
    "dataset = dataset.fillna(dataset.median())\n",
    "#Alternative approach would be to remove the rows with the data gaps (with the NaN)"
   ]
  },
  {
   "cell_type": "code",
   "execution_count": null,
   "metadata": {},
   "outputs": [],
   "source": [
    "#Get basic descriptive stats of the dataset to understand mean, median, standard dev, range\n",
    "dataset.describe()"
   ]
  },
  {
   "cell_type": "code",
   "execution_count": null,
   "metadata": {
    "scrolled": true
   },
   "outputs": [],
   "source": [
    "#Univariate histograms show us the distribution of each feature\n",
    "dataset.hist(bins=30, figsize=(20,15))\n",
    "plt.show()"
   ]
  },
  {
   "cell_type": "code",
   "execution_count": null,
   "metadata": {},
   "outputs": [],
   "source": [
    "#To inspect the correlation between different features, i.e. how they may or may not change with each other. \n",
    "#Values range from -1 to 1 and a value of 0 means no correlation at all.\n",
    "#Pearson's correlation assumes a normal distribution of the features.\n",
    "#Some ML algorithms don't work well if the data is highly correlated.\n",
    "from pandas import set_option\n",
    "set_option('display.width', 150)\n",
    "set_option('precision', 2)\n",
    "corr = dataset.corr(method='pearson')\n",
    "print(corr)"
   ]
  },
  {
   "cell_type": "code",
   "execution_count": null,
   "metadata": {
    "scrolled": true
   },
   "outputs": [],
   "source": [
    "#View correlations as a heatmap matrix, lighter colours = more correlation\n",
    "plt.figure(figsize = (15,15))\n",
    "sns.heatmap(corr, annot=True)"
   ]
  },
  {
   "cell_type": "code",
   "execution_count": null,
   "metadata": {},
   "outputs": [],
   "source": [
    "#Scatterplot for the data with the medians attached\n",
    "sns.pairplot(dataset, height = 1.5,)\n",
    "#If classification, can use sns.pairplot(dataset, hue = '(insert name of Y variable)') to colour dots based on class)"
   ]
  },
  {
   "cell_type": "code",
   "execution_count": null,
   "metadata": {},
   "outputs": [],
   "source": [
    "#Preparing the data for the decision tree model\n",
    "#Separate the dataset into dependent (x) and independent (y, has diabetes) components, starting with converting to array\n",
    "array = dataset.values\n",
    "\n",
    "X = array[:, 0:14]\n",
    "Y = array[:, 14]\n"
   ]
  },
  {
   "cell_type": "code",
   "execution_count": null,
   "metadata": {},
   "outputs": [],
   "source": [
    "#Split into training and test data\n",
    "# We train the model on the training data and then test how good it is using the unseen test data\n",
    "#from sklearn.model_selection import train_test_split\n",
    "#X_train, X_test, Y_train, Y_test = train_test_split(X, Y, test_size = 0.25, random_state=5)"
   ]
  },
  {
   "cell_type": "code",
   "execution_count": null,
   "metadata": {},
   "outputs": [],
   "source": [
    "print(X.shape)"
   ]
  },
  {
   "cell_type": "code",
   "execution_count": null,
   "metadata": {},
   "outputs": [],
   "source": [
    "print(Y.shape)"
   ]
  },
  {
   "cell_type": "code",
   "execution_count": null,
   "metadata": {},
   "outputs": [],
   "source": [
    "#Fit model #1 Decision Tree\n",
    "from sklearn.tree import DecisionTreeRegressor\n",
    "dt3 = DecisionTreeRegressor(max_depth = 3, min_samples_leaf = 2)\n",
    "dt3.fit(X, Y)"
   ]
  },
  {
   "cell_type": "code",
   "execution_count": null,
   "metadata": {},
   "outputs": [],
   "source": [
    "#Test decision Tree model accuracy using test dataset\n",
    "#resultdt = dt.score(X_test, Y_test)\n",
    "#print(\"Test Set Accuracy of Decision Tree model: %.3f%%\" % (resultdt*100.0))"
   ]
  },
  {
   "cell_type": "code",
   "execution_count": null,
   "metadata": {},
   "outputs": [],
   "source": [
    "#Plot confusion matrix to see what proportion of diabetes cases are predicted correctly\n",
    "#from sklearn.metrics import plot_confusion_matrix\n",
    "#matrixdt = plot_confusion_matrix(dt, X_test, Y_test, cmap=plt.cm.Blues)\n",
    "#plt.show(matrixdt)"
   ]
  },
  {
   "cell_type": "code",
   "execution_count": null,
   "metadata": {
    "scrolled": true
   },
   "outputs": [],
   "source": [
    "#Plot Decision Tree model as a tree using sklearn.tree, plot_tree\n",
    "from sklearn.tree import plot_tree\n",
    "fig, ax = plt.subplots(figsize=(15,10))\n",
    "fn = ['Spen', 'Tax', 'GinW', 'Mob', 'GDP', 'Pol', 'Dem', 'Giv', 'Obe', 'MinW', 'Gin', 'Edu', 'Work', 'Tour']\n",
    "plot_tree(dt3, filled=True, ax=ax, feature_names = fn, rounded=True, precision = 2)\n",
    "plt.show()"
   ]
  },
  {
   "cell_type": "code",
   "execution_count": null,
   "metadata": {},
   "outputs": [],
   "source": [
    "dt3.feature_importances_"
   ]
  },
  {
   "cell_type": "code",
   "execution_count": null,
   "metadata": {},
   "outputs": [],
   "source": [
    "#Fit model #1 Decision Tree\n",
    "from sklearn.tree import DecisionTreeRegressor\n",
    "dt4 = DecisionTreeRegressor(max_depth = 4, min_samples_leaf = 2)\n",
    "dt4.fit(X, Y)"
   ]
  },
  {
   "cell_type": "code",
   "execution_count": null,
   "metadata": {},
   "outputs": [],
   "source": [
    "#Plot Decision Tree model as a tree using sklearn.tree, plot_tree\n",
    "from sklearn.tree import plot_tree\n",
    "fig, ax = plt.subplots(figsize=(20,10))\n",
    "fn = ['Spen', 'Tax', 'GinW', 'Mob', 'GDP', 'Pol', 'Dem', 'Giv', 'Obe', 'MinW', 'Gin', 'Edu', 'Work', 'Tour']\n",
    "plot_tree(dt4, filled=True, ax=ax, feature_names = fn, rounded=True, precision = 2, fontsize=8)\n",
    "plt.show()"
   ]
  },
  {
   "cell_type": "code",
   "execution_count": null,
   "metadata": {},
   "outputs": [],
   "source": [
    "dt4.feature_importances_"
   ]
  }
 ],
 "metadata": {
  "kernelspec": {
   "display_name": "Python 3",
   "language": "python",
   "name": "python3"
  },
  "language_info": {
   "codemirror_mode": {
    "name": "ipython",
    "version": 3
   },
   "file_extension": ".py",
   "mimetype": "text/x-python",
   "name": "python",
   "nbconvert_exporter": "python",
   "pygments_lexer": "ipython3",
   "version": "3.8.3"
  }
 },
 "nbformat": 4,
 "nbformat_minor": 4
}
